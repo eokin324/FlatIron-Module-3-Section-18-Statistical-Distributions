{
 "cells": [
  {
   "cell_type": "code",
   "execution_count": 1,
   "metadata": {},
   "outputs": [],
   "source": [
    "import numpy as np\n",
    "from math import factorial"
   ]
  },
  {
   "cell_type": "code",
   "execution_count": 2,
   "metadata": {},
   "outputs": [],
   "source": [
    "def poisson_probability(lambd, x):\n",
    "    return ((lambd)**x * (np.exp(-lambd))) / factorial(x)"
   ]
  },
  {
   "cell_type": "markdown",
   "metadata": {},
   "source": [
    "A fireman fights, on average, 4 fires per month. What is the probability that a fireman is called to two different fires this week?"
   ]
  },
  {
   "cell_type": "code",
   "execution_count": 3,
   "metadata": {},
   "outputs": [
    {
     "name": "stdout",
     "output_type": "stream",
     "text": [
      "0.18393972058572117\n"
     ]
    }
   ],
   "source": [
    "lambd_q1 = 4 / 4\n",
    "prob_q1 = poisson_probability(lambd_q1, 2)\n",
    "print(prob_q1)"
   ]
  },
  {
   "cell_type": "markdown",
   "metadata": {},
   "source": [
    "A car salesman sells an average of 4 cars per week. What is the probability they sell a car today?"
   ]
  },
  {
   "cell_type": "code",
   "execution_count": 5,
   "metadata": {},
   "outputs": [
    {
     "name": "stdout",
     "output_type": "stream",
     "text": [
      "0.32269606971871956\n"
     ]
    }
   ],
   "source": [
    "lambd_q2 = 4 / 7\n",
    "prob_q2 = poisson_probability(lambd_q2, 1)\n",
    "print(prob_q2)"
   ]
  },
  {
   "cell_type": "markdown",
   "metadata": {},
   "source": [
    "A website makes an average of 50 sales per day. What is the probability that they make 3 sales in an hour?"
   ]
  },
  {
   "cell_type": "code",
   "execution_count": 6,
   "metadata": {},
   "outputs": [
    {
     "name": "stdout",
     "output_type": "stream",
     "text": [
      "0.18764840049328912\n"
     ]
    }
   ],
   "source": [
    "lambd_q3 = 50 / 24\n",
    "prob_q3 = poisson_probability(lambd_q3, 3)\n",
    "print(prob_q3)"
   ]
  },
  {
   "cell_type": "markdown",
   "metadata": {},
   "source": [
    "A factory produces 250 cars per week (assume that the factory runs day and night all week with no down time). What is the probability that they produce 3 cars in the next hour?"
   ]
  },
  {
   "cell_type": "code",
   "execution_count": 7,
   "metadata": {},
   "outputs": [
    {
     "name": "stdout",
     "output_type": "stream",
     "text": [
      "0.1240136186052091\n"
     ]
    }
   ],
   "source": [
    "lambd_q4 = 250 / (24 * 7 )\n",
    "prob_q4 = poisson_probability(lambd_q4, 3)\n",
    "print(prob_q4) "
   ]
  }
 ],
 "metadata": {
  "kernelspec": {
   "display_name": "Python 3",
   "language": "python",
   "name": "python3"
  },
  "language_info": {
   "codemirror_mode": {
    "name": "ipython",
    "version": 3
   },
   "file_extension": ".py",
   "mimetype": "text/x-python",
   "name": "python",
   "nbconvert_exporter": "python",
   "pygments_lexer": "ipython3",
   "version": "3.7.3"
  }
 },
 "nbformat": 4,
 "nbformat_minor": 2
}
