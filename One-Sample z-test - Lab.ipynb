{
 "cells": [
  {
   "cell_type": "markdown",
   "metadata": {},
   "source": [
    "A fast food chain claims that the mean time to order food at their restaurants is 60 seconds, with a standard deviation of 30 seconds. You decide to put this claim to the test and go to one of the restaurants to observe actual waiting times. You take a sample of 36 customers and find that the mean order time was 75 seconds. Does this finding prove enough evidence to contradict the fast food chain's claim of fast service?\n",
    "\n",
    "Follow the 5 steps shown in previous lesson and use  α  = 0.05."
   ]
  },
  {
   "cell_type": "code",
   "execution_count": 3,
   "metadata": {},
   "outputs": [
    {
     "data": {
      "text/plain": [
       "(0.0013498980316301035, 3.0)"
      ]
     },
     "execution_count": 3,
     "metadata": {},
     "output_type": "execute_result"
    }
   ],
   "source": [
    "# Ha : the time to order food is longer than 60 seconds\n",
    "# Ho : the time to order food is shorter than or equal to 60 seconds\n",
    "import math\n",
    "import scipy.stats as stats\n",
    "mu = 60\n",
    "sigma = 30\n",
    "n=36\n",
    "x_bar = 75\n",
    "z = (x_bar - mu)/(sigma/math.sqrt(n))\n",
    "p = 1 - stats.norm.cdf(z)\n",
    "p,z\n",
    "#P-value less than 0.05, reject the null hypothesis, \n",
    "#the time to order food is significantly higher than what the fast food chain claims. "
   ]
  },
  {
   "cell_type": "markdown",
   "metadata": {},
   "source": [
    "25 students complete a preparation program for taking the SAT test. Here are the SAT scores from the 25 students who completed program:\n",
    "\n",
    "434 694 457 534 720 400 484 478 610 641 425 636 454 \n",
    "514 563 370 499 640 501 625 612 471 598 509 531\n",
    "\n",
    "We know that the population average for SAT scores is 500 with a standard deviation of 100.\n",
    "\n",
    "Are our 25 students’ SAT scores significantly higher than the population's mean score?\n",
    "\n",
    "Note that the SAT preparation program claims that it will increase (and not decrease) the SAT score. So, you can conduct a one-directional test. (alpha = .05)."
   ]
  },
  {
   "cell_type": "code",
   "execution_count": 6,
   "metadata": {},
   "outputs": [
    {
     "data": {
      "text/plain": [
       "(0.03593031911292577, 1.8)"
      ]
     },
     "execution_count": 6,
     "metadata": {},
     "output_type": "execute_result"
    }
   ],
   "source": [
    "# Ho : there is no increase from tutoring\n",
    "# Ha : there is an increase in grades from tutoring\n",
    "import numpy as np \n",
    "x = np.array([434, 694, 457, 534, 720, 400, 484, 478, 610, 641, 425, 636, 454,\n",
    "514, 563, 370, 499, 640, 501, 625, 612, 471, 598, 509, 531])\n",
    "x_bar = x.mean()\n",
    "n = len(x)\n",
    "mu = 500\n",
    "sigma = 100\n",
    "z = (x_bar - mu)/(sigma/math.sqrt(n))\n",
    "p = 1 - stats.norm.cdf(z)\n",
    "p,z\n",
    "# P-Value< alpha; The tutoring has a significant effect on SAT scores"
   ]
  },
  {
   "cell_type": "code",
   "execution_count": null,
   "metadata": {},
   "outputs": [],
   "source": []
  }
 ],
 "metadata": {
  "kernelspec": {
   "display_name": "Python 3",
   "language": "python",
   "name": "python3"
  },
  "language_info": {
   "codemirror_mode": {
    "name": "ipython",
    "version": 3
   },
   "file_extension": ".py",
   "mimetype": "text/x-python",
   "name": "python",
   "nbconvert_exporter": "python",
   "pygments_lexer": "ipython3",
   "version": "3.7.3"
  }
 },
 "nbformat": 4,
 "nbformat_minor": 2
}
